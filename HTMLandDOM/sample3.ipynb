{
 "cells": [
  {
   "cell_type": "markdown",
   "metadata": {},
   "source": [
    "# Beatport で検索"
   ]
  },
  {
   "cell_type": "code",
   "execution_count": 110,
   "metadata": {},
   "outputs": [
    {
     "name": "stdout",
     "output_type": "stream",
     "text": [
      "ページの取得に失敗しました: 403\n"
     ]
    }
   ],
   "source": [
    "import requests\n",
    "from bs4 import BeautifulSoup\n",
    "\n",
    "query = input(\"検索語を入力してください: \")\n",
    "url = f\"https://www.beatport.com/search/tracks?q={query}&per-page=150\"\n",
    "\n",
    "response = requests.get(url)\n",
    "\n",
    "if response.status_code == 200:\n",
    "    print(\"ページの取得に成功しました\")\n",
    "else:\n",
    "    print(f\"ページの取得に失敗しました: {response.status_code}\")\n",
    "\n",
    "soup = BeautifulSoup(response.content, \"html.parser\")"
   ]
  },
  {
   "cell_type": "markdown",
   "metadata": {},
   "source": [
    "[ユーザーエージェントの確認](https://testpage.jp/tool/ip_user_agent.php)　　\n",
    "- 「ブラウザのユーザーエージェント」を[YOUR-USER-AGENT]にコピペ"
   ]
  },
  {
   "cell_type": "code",
   "execution_count": 111,
   "metadata": {},
   "outputs": [
    {
     "name": "stdout",
     "output_type": "stream",
     "text": [
      "ページの取得に成功しました\n"
     ]
    }
   ],
   "source": [
    "# 403エラーが出る場合はこちら\n",
    "\n",
    "# ブラウザのUser-Agentを模倣するためのヘッダーを追加\n",
    "headers = {\n",
    "    \"User-Agent\": \"[YOUR-USER-AGENT]\"\n",
    "}\n",
    "\n",
    "query = input(\"検索語を入力してください: \")\n",
    "url = f\"https://www.beatport.com/search/tracks?q={query}&per-page=150\"\n",
    "\n",
    "response = requests.get(url, headers=headers)\n",
    "\n",
    "if response.status_code == 200:\n",
    "    print(\"ページの取得に成功しました\")\n",
    "else:\n",
    "    print(f\"ページの取得に失敗しました: {response.status_code}\")\n",
    "\n",
    "soup = BeautifulSoup(response.content, \"html.parser\")"
   ]
  },
  {
   "cell_type": "code",
   "execution_count": 112,
   "metadata": {},
   "outputs": [],
   "source": [
    "import json\n",
    "\n",
    "json_script = soup.find(\"script\", id=\"__NEXT_DATA__\", type=\"application/json\")\n",
    "if json_script:\n",
    "    json_data = (json.loads(json_script.string)) # jsonを辞書型に変換\n",
    "else:\n",
    "    print(\"JSONデータが見つかりませんでした。\")\n",
    "\n",
    "itemList = json_data['props']['pageProps']['dehydratedState']['queries'][0]['state']['data']['data']\n",
    "\n",
    "trackList = []\n",
    "for item in itemList:\n",
    "    track = {}\n",
    "    track['title'] = item.get('release', \"\").get('release_name', \"\") # 属性がない場合 \"\"\n",
    "    track['mix'] = item.get('mix_name', \"\")\n",
    "    track['artist'] = item.get('artists', [{}])[0].get('artist_name', \"\")\n",
    "    track['remixer'] = item.get('NOT_SET_KEY')\n",
    "    track['label'] = item.get('label', \"\").get('label_name', \"\")\n",
    "    track['genre'] = item.get('genre', [{}])[0].get('genre_name', \"\")\n",
    "    track['key'] = item.get('key_name', \"\")\n",
    "    track['released'] = item.get('publish_date', \"\")\n",
    "    track['price'] = item.get('price', \"\").get('value', \"\")\n",
    "    trackList.append(track)"
   ]
  },
  {
   "cell_type": "code",
   "execution_count": 113,
   "metadata": {},
   "outputs": [
    {
     "data": {
      "text/plain": [
       "{'title': 'Body Rock EP',\n",
       " 'mix': 'Original Mix',\n",
       " 'artist': 'Body Rock',\n",
       " 'remixer': None,\n",
       " 'label': 'Essential Media Group',\n",
       " 'genre': 'House',\n",
       " 'key': 'Eb Major',\n",
       " 'released': '2010-03-11T00:00:00',\n",
       " 'price': 1.49}"
      ]
     },
     "execution_count": 113,
     "metadata": {},
     "output_type": "execute_result"
    }
   ],
   "source": [
    "trackList[0]"
   ]
  }
 ],
 "metadata": {
  "kernelspec": {
   "display_name": "venv",
   "language": "python",
   "name": "python3"
  },
  "language_info": {
   "codemirror_mode": {
    "name": "ipython",
    "version": 3
   },
   "file_extension": ".py",
   "mimetype": "text/x-python",
   "name": "python",
   "nbconvert_exporter": "python",
   "pygments_lexer": "ipython3",
   "version": "3.12.4"
  }
 },
 "nbformat": 4,
 "nbformat_minor": 2
}
